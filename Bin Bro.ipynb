{
  "cells": [
    {
      "cell_type": "markdown",
      "id": "8b7bef09-9e86-4b19-bbb7-e0ccb7515328",
      "metadata": {
        "execution": {
          "iopub.execute_input": "2024-02-14T22:50:38.627643Z",
          "iopub.status.busy": "2024-02-14T22:50:38.627255Z",
          "iopub.status.idle": "2024-02-14T22:50:39.496067Z",
          "shell.execute_reply": "2024-02-14T22:50:39.495215Z",
          "shell.execute_reply.started": "2024-02-14T22:50:38.627616Z"
        },
        "id": "8b7bef09-9e86-4b19-bbb7-e0ccb7515328",
        "tags": []
      },
      "source": [
        "# Baseline"
      ]
    },
    {
      "cell_type": "code",
      "execution_count": null,
      "id": "70678a5b",
      "metadata": {
        "id": "70678a5b"
      },
      "outputs": [],
      "source": [
        "!pip install numba\n",
        "!pip install catboost"
      ]
    },
    {
      "cell_type": "code",
      "execution_count": 5,
      "id": "e0ddb399-18f4-4051-86c0-39f1c623eef5",
      "metadata": {
        "execution": {
          "iopub.execute_input": "2024-02-15T11:34:39.109032Z",
          "iopub.status.busy": "2024-02-15T11:34:39.108624Z",
          "iopub.status.idle": "2024-02-15T11:34:39.955360Z",
          "shell.execute_reply": "2024-02-15T11:34:39.954584Z",
          "shell.execute_reply.started": "2024-02-15T11:34:39.109007Z"
        },
        "id": "e0ddb399-18f4-4051-86c0-39f1c623eef5",
        "tags": []
      },
      "outputs": [],
      "source": [
        "import numpy as np\n",
        "import pandas as pd\n",
        "from sklearn.metrics import roc_auc_score\n",
        "from catboost import CatBoostClassifier\n",
        "from sklearn.model_selection import train_test_split\n",
        "import matplotlib.pyplot as plt\n",
        "import seaborn as sns"
      ]
    },
    {
      "cell_type": "code",
      "execution_count": null,
      "id": "WremRMspEMJA",
      "metadata": {
        "id": "WremRMspEMJA"
      },
      "outputs": [],
      "source": [
        "!pip freeze | grep \"numpy\\|pandas\\|lightgbm\\|scikit-learn\""
      ]
    },
    {
      "cell_type": "markdown",
      "id": "cbcf3aae-5417-42a3-9ed2-818b9aef0f2f",
      "metadata": {
        "id": "cbcf3aae-5417-42a3-9ed2-818b9aef0f2f"
      },
      "source": [
        "## Загрузка данных"
      ]
    },
    {
      "cell_type": "markdown",
      "id": "DCN4DEaNqjr2",
      "metadata": {
        "id": "DCN4DEaNqjr2"
      },
      "source": [
        "Обозначение категориальных и числовых признаков"
      ]
    },
    {
      "cell_type": "code",
      "execution_count": 8,
      "id": "198295f2-78b7-41a0-b0fe-490de972beaf",
      "metadata": {
        "execution": {
          "iopub.execute_input": "2024-02-14T23:09:54.257396Z",
          "iopub.status.busy": "2024-02-14T23:09:54.257163Z",
          "iopub.status.idle": "2024-02-14T23:09:54.777051Z",
          "shell.execute_reply": "2024-02-14T23:09:54.776272Z",
          "shell.execute_reply.started": "2024-02-14T23:09:54.257375Z"
        },
        "id": "198295f2-78b7-41a0-b0fe-490de972beaf",
        "tags": []
      },
      "outputs": [],
      "source": [
        "train_df = pd.read_parquet(\"train_data.pqt\")\n",
        "test_df = pd.read_parquet(\"test_data.pqt\")\n",
        "\n",
        "cat_cols = [\n",
        "    \"channel_code\", \"city\", \"city_type\",\n",
        "    \"okved\", \"segment\", \"start_cluster\",\n",
        "    \"index_city_code\", \"ogrn_month\", \"ogrn_year\",\n",
        "]\n",
        "\n",
        "train_df[cat_cols] = train_df[cat_cols].astype(\"category\")\n",
        "test_df[cat_cols] = test_df[cat_cols].astype(\"category\")\n",
        "\n",
        "numerical_features = train_df.select_dtypes(include=['int64', 'float64']).columns\n",
        "categorical_features = train_df.select_dtypes(include=['category']).columns\n",
        "\n",
        "train_df[numerical_features] = train_df[numerical_features].fillna(train_df[numerical_features].median())\n",
        "test_df[numerical_features] = test_df[numerical_features].fillna(test_df[numerical_features].median())\n",
        "\n",
        "train_df[categorical_features] = train_df[categorical_features].astype(str)\n",
        "test_df[categorical_features] = test_df[categorical_features].astype(str)\n",
        "\n",
        "train_df[categorical_features] = train_df[categorical_features].fillna(train_df[categorical_features].mode())\n",
        "test_df[categorical_features] = test_df[categorical_features].fillna(test_df[categorical_features].mode())\n",
        "\n",
        "train_df[categorical_features] = train_df[categorical_features].astype(\"category\")\n",
        "test_df[categorical_features] = test_df[categorical_features].astype(\"category\")"
      ]
    },
    {
      "cell_type": "markdown",
      "id": "50RNyCgPtl6n",
      "metadata": {
        "id": "50RNyCgPtl6n"
      },
      "source": [
        "Создаем выборки для валидации и обучения"
      ]
    },
    {
      "cell_type": "code",
      "execution_count": null,
      "id": "2c0edf39-d716-48ca-a66c-936871ee5918",
      "metadata": {
        "execution": {
          "iopub.execute_input": "2024-02-14T23:09:54.944960Z",
          "iopub.status.busy": "2024-02-14T23:09:54.944681Z",
          "iopub.status.idle": "2024-02-14T23:09:55.555948Z",
          "shell.execute_reply": "2024-02-14T23:09:55.554535Z",
          "shell.execute_reply.started": "2024-02-14T23:09:54.944939Z"
        },
        "id": "2c0edf39-d716-48ca-a66c-936871ee5918",
        "tags": []
      },
      "outputs": [],
      "source": [
        "X = train_df.drop(['id', 'date', 'end_cluster'], axis=1)\n",
        "y = train_df[\"end_cluster\"]\n",
        "\n",
        "numerical_features = X.select_dtypes(include=['int64', 'float64']).columns.tolist()\n",
        "corr_matrix = X[numerical_features].corr().abs()\n",
        "\n",
        "# удаляем признаки, у которых корреляция > 0.95\n",
        "high_corr = []\n",
        "for i in range(len(corr_matrix.columns)):\n",
        "    for j in range(i):\n",
        "        if corr_matrix.iloc[i, j] > 0.95:\n",
        "            high_corr.append((corr_matrix.columns[i], corr_matrix.columns[j], corr_matrix.iloc[i, j]))\n",
        "\n",
        "to_drop = set()\n",
        "\n",
        "for feature1, feature2, corr in high_corr:\n",
        "    if X[feature1].var() < X[feature2].var():\n",
        "        to_drop.add(feature1)\n",
        "    else:\n",
        "        to_drop.add(feature2)\n",
        "\n",
        "df_filtered = X.drop(columns=to_drop)\n",
        "\n",
        "df_filtered.info()"
      ]
    },
    {
      "cell_type": "code",
      "execution_count": 10,
      "id": "cf8b6b3d",
      "metadata": {
        "id": "cf8b6b3d"
      },
      "outputs": [],
      "source": [
        "X = df_filtered"
      ]
    },
    {
      "cell_type": "code",
      "execution_count": 11,
      "id": "3550cfc6",
      "metadata": {
        "id": "3550cfc6"
      },
      "outputs": [],
      "source": [
        "x_train, x_val, y_train, y_val = train_test_split(X, y,\n",
        "                                                  test_size=0.2,\n",
        "                                                  random_state=42)\n",
        "\n",
        "numerical_features = X.select_dtypes(include=['int64', 'float64']).columns\n",
        "categorical_features = X.select_dtypes(include=['category']).columns"
      ]
    },
    {
      "cell_type": "code",
      "execution_count": null,
      "id": "c2069bfd",
      "metadata": {
        "id": "c2069bfd"
      },
      "outputs": [],
      "source": [
        "cluster_weights = pd.read_excel(\"cluster_weights.xlsx\").set_index(\"cluster\")\n",
        "weights_dict = cluster_weights[\"unnorm_weight\"].to_dict()\n",
        "weights_dict"
      ]
    },
    {
      "cell_type": "markdown",
      "id": "vkyL_GYgNMCL",
      "metadata": {
        "id": "vkyL_GYgNMCL"
      },
      "source": [
        "## Обучение модели"
      ]
    },
    {
      "cell_type": "markdown",
      "id": "nsiLHOP3tyLs",
      "metadata": {
        "id": "nsiLHOP3tyLs"
      },
      "source": [
        "Подбор наилучших параметров через GridSearch"
      ]
    },
    {
      "cell_type": "code",
      "execution_count": null,
      "id": "bab39b02",
      "metadata": {
        "id": "bab39b02"
      },
      "outputs": [],
      "source": [
        "# from catboost import CatBoostClassifier, Pool\n",
        "# from sklearn.model_selection import GridSearchCV\n",
        "#\n",
        "# model = CatBoostClassifier(\n",
        "#     iterations=1000,\n",
        "#     early_stopping_rounds=100,\n",
        "#     cat_features=list(categorical_features),\n",
        "#     random_seed=42,\n",
        "#     eval_metric='AUC',\n",
        "#     verbose=10,\n",
        "#     task_type='GPU'\n",
        "# )\n",
        "#\n",
        "# param_grid = {\n",
        "#     \"depth\": [4, 6, 8, 10],\n",
        "#     \"learning_rate\": [0.1, 0.3, 0.5],\n",
        "#     \"l2_leaf_reg\": [1, 3, 5]\n",
        "# }\n",
        "#\n",
        "# grid_search = GridSearchCV(model, param_grid, cv=2, verbose=10)\n",
        "# grid_search.fit(x_train, y_train)\n",
        "#\n",
        "# print(\"Лучшие параметры:\", grid_search.best_params_)"
      ]
    },
    {
      "cell_type": "markdown",
      "source": [
        "Обучение модели CatBoost"
      ],
      "metadata": {
        "id": "Fv88Bi44OtWR"
      },
      "id": "Fv88Bi44OtWR"
    },
    {
      "cell_type": "code",
      "execution_count": null,
      "id": "6badd1b7-0155-4c85-859d-f075800ede6e",
      "metadata": {
        "execution": {
          "iopub.execute_input": "2024-02-14T23:09:55.557916Z",
          "iopub.status.busy": "2024-02-14T23:09:55.557642Z",
          "iopub.status.idle": "2024-02-14T23:09:55.562656Z",
          "shell.execute_reply": "2024-02-14T23:09:55.562029Z",
          "shell.execute_reply.started": "2024-02-14T23:09:55.557878Z"
        },
        "id": "6badd1b7-0155-4c85-859d-f075800ede6e",
        "tags": []
      },
      "outputs": [],
      "source": [
        "#Лучшие параметры: {'depth': 10, 'l2_leaf_reg': 1, 'learning_rate': 0.3}\n",
        "\n",
        "model = CatBoostClassifier(\n",
        "    iterations=1000,\n",
        "    early_stopping_rounds=100,\n",
        "    learning_rate=0.319,\n",
        "    depth=10,\n",
        "    l2_leaf_reg=1,\n",
        "    cat_features=list(categorical_features),\n",
        "    random_seed=42,\n",
        "    eval_metric='AUC',\n",
        "    verbose=10,\n",
        "    task_type='GPU'\n",
        ")\n",
        "\n",
        "model.fit(\n",
        "    x_train,\n",
        "    y_train,\n",
        "    eval_set=(x_val, y_val),\n",
        "    plot=True\n",
        ")"
      ]
    },
    {
      "cell_type": "markdown",
      "id": "in4jAC8SIbIk",
      "metadata": {
        "id": "in4jAC8SIbIk"
      },
      "source": [
        "Зададим функцию для взвешенной метрики roc auc"
      ]
    },
    {
      "cell_type": "code",
      "execution_count": null,
      "id": "WxsjOsocI0Kq",
      "metadata": {
        "id": "WxsjOsocI0Kq"
      },
      "outputs": [],
      "source": [
        "def weighted_roc_auc(y_true, y_pred, labels, weights_dict):\n",
        "    unnorm_weights = np.array([weights_dict[label] for label in labels])\n",
        "    weights = unnorm_weights / unnorm_weights.sum()\n",
        "    classes_roc_auc = roc_auc_score(y_true, y_pred, labels=labels,\n",
        "                                    multi_class=\"ovr\", average=None)\n",
        "    return sum(weights * classes_roc_auc)\n",
        "# предсказываем вероятности\n",
        "y_pred_proba = model.predict_proba(x_val)\n",
        "# смотрим на метрики\n",
        "weighted_roc_auc(y_val, y_pred_proba, sorted(model.classes_), weights_dict)"
      ]
    },
    {
      "cell_type": "markdown",
      "id": "882N_MniJeLl",
      "metadata": {
        "id": "882N_MniJeLl"
      },
      "source": [
        "Проверка работы модели"
      ]
    },
    {
      "cell_type": "markdown",
      "id": "3ec746c7",
      "metadata": {
        "id": "3ec746c7"
      },
      "source": [
        "Предиктим старт класс\n"
      ]
    },
    {
      "cell_type": "code",
      "execution_count": null,
      "id": "77393f52",
      "metadata": {
        "id": "77393f52"
      },
      "outputs": [],
      "source": [
        "X1 = train_df.drop(['id', 'date', 'end_cluster', 'start_cluster'], axis=1)\n",
        "y1 = train_df[\"start_cluster\"]\n",
        "\n",
        "# выделяем тольько те места, где есть старт кластер в тестовой части\n",
        "X2 = test_df[test_df[\"date\"] != \"month_6\"]\n",
        "y2 = X2[\"start_cluster\"]\n",
        "X2 = X2.drop([\"id\", \"date\", \"start_cluster\"], axis=1)\n",
        "\n",
        "# соединяем тренировочную и тестовую часть с присутствующим старт кластером\n",
        "X_combined = pd.concat([X1, X2], ignore_index=True, axis=0)\n",
        "y_combined = pd.concat([y1, y2], ignore_index=True, axis=0)\n",
        "X_combined.info"
      ]
    },
    {
      "cell_type": "code",
      "execution_count": 16,
      "id": "cfa363ff",
      "metadata": {
        "id": "cfa363ff"
      },
      "outputs": [],
      "source": [
        "numerical_features = X_combined.select_dtypes(include=['int64', 'float64']).columns\n",
        "categorical_features = X_combined.select_dtypes(include=['category']).columns\n"
      ]
    },
    {
      "cell_type": "code",
      "execution_count": 17,
      "id": "8d0bf68f",
      "metadata": {
        "id": "8d0bf68f"
      },
      "outputs": [],
      "source": [
        "x_train1, x_val1, y_train1, y_val1 = train_test_split(X_combined, y_combined,\n",
        "                                                  test_size=0.2,\n",
        "                                                  random_state=19)"
      ]
    },
    {
      "cell_type": "markdown",
      "source": [
        "Второй GridSearch"
      ],
      "metadata": {
        "id": "LxwSLKCIPGXk"
      },
      "id": "LxwSLKCIPGXk"
    },
    {
      "cell_type": "code",
      "execution_count": null,
      "id": "89948a00",
      "metadata": {
        "id": "89948a00"
      },
      "outputs": [],
      "source": [
        "#from catboost import CatBoostClassifier, Pool\n",
        "#from sklearn.model_selection import GridSearchCV\n",
        "#\n",
        "#categorical_features2 = X1.select_dtypes(include=['category']).columns\n",
        "#\n",
        "#model_for_start_cluster = CatBoostClassifier(\n",
        "#    iterations=1000,\n",
        "#    early_stopping_rounds=100,\n",
        "#    cat_features=list(categorical_features2),\n",
        "#    eval_metric='Accuracy',\n",
        "#    #verbose=20,\n",
        "#    random_seed=42,\n",
        "#    task_type='GPU'\n",
        "#)\n",
        "#\n",
        "#param_grid = {\n",
        "#    \"depth\": [6, 8, 10, 12],\n",
        "#    \"learning_rate\": [0.1, 0.3, 0.5],\n",
        "#    \"l2_leaf_reg\": [1, 3, 5]\n",
        "#}\n",
        "#\n",
        "#grid_search = GridSearchCV(model_for_start_cluster, param_grid, cv=2, verbose=10)\n",
        "#grid_search.fit(x_train1, y_train1)\n",
        "#\n",
        "#print(\"Лучшие параметры:\", grid_search.best_params_)"
      ]
    },
    {
      "cell_type": "code",
      "execution_count": null,
      "id": "439c770d",
      "metadata": {
        "id": "439c770d"
      },
      "outputs": [],
      "source": [
        "categorical_features2 = X1.select_dtypes(include=['category']).columns\n",
        "# модель\n",
        "model_for_start_cluster = CatBoostClassifier(\n",
        "    iterations=1000,\n",
        "    early_stopping_rounds=100,\n",
        "    cat_features=list(categorical_features2),\n",
        "    eval_metric='Accuracy',\n",
        "    learning_rate=0.3,\n",
        "    l2_leaf_reg = 1,\n",
        "    depth=12,\n",
        "    verbose=20,\n",
        "    random_seed=42,\n",
        "    task_type='GPU'\n",
        ")\n",
        "model_for_start_cluster.fit(x_train1, y_train1, eval_set=(x_val1, y_val1), plot=True)"
      ]
    },
    {
      "cell_type": "code",
      "execution_count": null,
      "id": "28ebbec2",
      "metadata": {
        "id": "28ebbec2"
      },
      "outputs": [],
      "source": [
        "from sklearn.metrics import accuracy_score, f1_score\n",
        "\n",
        "start_cluster_y_pred = model_for_start_cluster.predict(x_val1)\n",
        "\n",
        "print(accuracy_score(y_val1, start_cluster_y_pred))\n",
        "print(f1_score(y_val1, start_cluster_y_pred, average='macro'))"
      ]
    },
    {
      "cell_type": "markdown",
      "id": "cfLFjyYHNTE4",
      "metadata": {
        "id": "cfLFjyYHNTE4"
      },
      "source": [
        "## Прогноз на тестовой выборке"
      ]
    },
    {
      "cell_type": "code",
      "execution_count": null,
      "id": "pUpqu4ueNdTO",
      "metadata": {
        "id": "pUpqu4ueNdTO"
      },
      "outputs": [],
      "source": [
        "test_df.pivot(index=\"id\", columns=\"date\", values=\"start_cluster\").head(3)"
      ]
    },
    {
      "cell_type": "markdown",
      "id": "D7hcKFpa042B",
      "metadata": {
        "id": "D7hcKFpa042B"
      },
      "source": [
        "Для того, чтобы сделать прогноз на тестовой выборке, нужно заполнить стартовый кластер. </br>\n",
        "В качестве базового подхода заполним все стартовые кластеры, самым популярным кластером."
      ]
    },
    {
      "cell_type": "code",
      "execution_count": 20,
      "id": "FbOyX_FJN8k6",
      "metadata": {
        "id": "FbOyX_FJN8k6"
      },
      "outputs": [],
      "source": [
        "test_df[\"start_cluster\"] = test_df[\"start_cluster\"].astype(\"category\")"
      ]
    },
    {
      "cell_type": "code",
      "execution_count": null,
      "id": "0c971207",
      "metadata": {
        "id": "0c971207"
      },
      "outputs": [],
      "source": [
        "test_df['start_cluster'].value_counts()"
      ]
    },
    {
      "cell_type": "code",
      "execution_count": 23,
      "id": "efc8b64a-86db-4564-af7b-be649612df82",
      "metadata": {
        "execution": {
          "iopub.execute_input": "2024-02-15T11:36:12.303553Z",
          "iopub.status.busy": "2024-02-15T11:36:12.302964Z",
          "iopub.status.idle": "2024-02-15T11:36:12.337469Z",
          "shell.execute_reply": "2024-02-15T11:36:12.336438Z",
          "shell.execute_reply.started": "2024-02-15T11:36:12.303513Z"
        },
        "id": "efc8b64a-86db-4564-af7b-be649612df82",
        "tags": []
      },
      "outputs": [],
      "source": [
        "sample_submission_df = pd.read_csv(\"sample_submission.csv\")"
      ]
    },
    {
      "cell_type": "markdown",
      "id": "1qVgADkI1MnS",
      "metadata": {
        "id": "1qVgADkI1MnS"
      },
      "source": [
        "Для тестовой выборки будем использовать только последний месяц"
      ]
    },
    {
      "cell_type": "code",
      "execution_count": null,
      "id": "9bf790af-ed40-40bd-8cd2-196246f8856f",
      "metadata": {
        "execution": {
          "iopub.execute_input": "2024-02-14T23:11:52.698734Z",
          "iopub.status.busy": "2024-02-14T23:11:52.698456Z",
          "iopub.status.idle": "2024-02-14T23:11:52.791541Z",
          "shell.execute_reply": "2024-02-14T23:11:52.790882Z",
          "shell.execute_reply.started": "2024-02-14T23:11:52.698714Z"
        },
        "id": "9bf790af-ed40-40bd-8cd2-196246f8856f",
        "tags": []
      },
      "outputs": [],
      "source": [
        "last_m_test_df = test_df[test_df[\"date\"] == \"month_6\"]\n",
        "last_m_test_df = last_m_test_df.drop([\"id\", \"date\"], axis=1)\n",
        "#last_m_test_df = last_m_test_df.drop(to_drop, axis=1)\n",
        "last_m_test_df['start_cluster']"
      ]
    },
    {
      "cell_type": "code",
      "execution_count": null,
      "id": "0760e312",
      "metadata": {
        "id": "0760e312"
      },
      "outputs": [],
      "source": [
        "Xlm = last_m_test_df.drop([\"start_cluster\"], axis=1)\n",
        "# Xlm = Xlm.drop(columns=to_drop)\n",
        "last_m_test_df['start_cluster'] = model_for_start_cluster.predict(Xlm).flatten()\n",
        "last_m_test_df['start_cluster']"
      ]
    },
    {
      "cell_type": "markdown",
      "source": [
        "Сохраняем тестовую выборку с предсказанным старт кластером"
      ],
      "metadata": {
        "id": "V8Eq89jrQBZU"
      },
      "id": "V8Eq89jrQBZU"
    },
    {
      "cell_type": "code",
      "execution_count": null,
      "id": "ff61699f",
      "metadata": {
        "id": "ff61699f"
      },
      "outputs": [],
      "source": [
        "# last_m_test_df['start_cluster'].to_csv('lmtdfHugeSuperImba.csv')"
      ]
    },
    {
      "cell_type": "markdown",
      "source": [
        "Читаем из сохранения"
      ],
      "metadata": {
        "id": "WgwUN26jQR5R"
      },
      "id": "WgwUN26jQR5R"
    },
    {
      "cell_type": "code",
      "execution_count": null,
      "id": "4b5034b7",
      "metadata": {
        "id": "4b5034b7"
      },
      "outputs": [],
      "source": [
        "# stcl = pd.read_csv('lmtdfHuge.csv')['start_cluster']\n",
        "# last_m_test_df['start_cluster'] = stcl.to_numpy()\n",
        "# last_m_test_df['start_cluster']"
      ]
    },
    {
      "cell_type": "code",
      "execution_count": null,
      "id": "f048f749",
      "metadata": {
        "id": "f048f749"
      },
      "outputs": [],
      "source": [
        "last_m_test_df.info()"
      ]
    },
    {
      "cell_type": "code",
      "source": [
        "last_m_test_df = last_m_test_df.drop(columns=to_drop)"
      ],
      "metadata": {
        "id": "2MtiMVoRQaSC"
      },
      "id": "2MtiMVoRQaSC",
      "execution_count": 27,
      "outputs": []
    },
    {
      "cell_type": "code",
      "execution_count": 28,
      "id": "5585fd22-3b4f-44f5-a673-777fec4fedc5",
      "metadata": {
        "execution": {
          "iopub.execute_input": "2024-02-14T23:11:52.813319Z",
          "iopub.status.busy": "2024-02-14T23:11:52.813067Z",
          "iopub.status.idle": "2024-02-14T23:12:01.288281Z",
          "shell.execute_reply": "2024-02-14T23:12:01.287566Z",
          "shell.execute_reply.started": "2024-02-14T23:11:52.813300Z"
        },
        "id": "5585fd22-3b4f-44f5-a673-777fec4fedc5",
        "tags": []
      },
      "outputs": [],
      "source": [
        "test_pred_proba = model.predict_proba(last_m_test_df)\n",
        "test_pred_proba_df = pd.DataFrame(test_pred_proba, columns=model.classes_)\n",
        "sorted_classes = sorted(test_pred_proba_df.columns.to_list())\n",
        "test_pred_proba_df = test_pred_proba_df[sorted_classes]"
      ]
    },
    {
      "cell_type": "code",
      "execution_count": null,
      "id": "xUa5e3c4UcSe",
      "metadata": {
        "id": "xUa5e3c4UcSe"
      },
      "outputs": [],
      "source": [
        "test_pred_proba_df.shape"
      ]
    },
    {
      "cell_type": "code",
      "execution_count": null,
      "id": "QqDRm_FB1oWF",
      "metadata": {
        "id": "QqDRm_FB1oWF"
      },
      "outputs": [],
      "source": [
        "test_pred_proba_df.head(2)"
      ]
    },
    {
      "cell_type": "code",
      "execution_count": 29,
      "id": "a6fbe390-7b56-45a9-8e5b-ab43f9bb7dfc",
      "metadata": {
        "execution": {
          "iopub.execute_input": "2024-02-14T23:12:01.294283Z",
          "iopub.status.busy": "2024-02-14T23:12:01.293888Z",
          "iopub.status.idle": "2024-02-14T23:12:01.382141Z",
          "shell.execute_reply": "2024-02-14T23:12:01.381647Z",
          "shell.execute_reply.started": "2024-02-14T23:12:01.294266Z"
        },
        "id": "a6fbe390-7b56-45a9-8e5b-ab43f9bb7dfc",
        "tags": []
      },
      "outputs": [],
      "source": [
        "sample_submission_df[sorted_classes] = test_pred_proba_df\n",
        "sample_submission_df.to_csv(\"submission.csv\", index=False)"
      ]
    },
    {
      "cell_type": "code",
      "execution_count": null,
      "id": "fc821560",
      "metadata": {
        "id": "fc821560"
      },
      "outputs": [],
      "source": [
        "# важность признаков\n",
        "feature_importance = model.get_feature_importance()\n",
        "feature_names = X.columns\n",
        "importance_df = pd.DataFrame({'feature': feature_names, 'importance': feature_importance})\n",
        "importance_df = importance_df[importance_df['importance'] < 1]\n",
        "importance_df = importance_df.sort_values('importance', ascending=False)\n",
        "\n",
        "plt.figure(figsize=(10, 14))\n",
        "sns.barplot(x='importance', y='feature', data=importance_df)\n",
        "plt.title('CatBoost Feature Importance', fontsize=15)\n",
        "plt.xlabel('Importance Score', fontsize=12)\n",
        "plt.ylabel('Features', fontsize=12)\n",
        "plt.tight_layout()\n",
        "plt.show()"
      ]
    }
  ],
  "metadata": {
    "colab": {
      "provenance": [],
      "gpuType": "T4"
    },
    "kernelspec": {
      "display_name": "Python 3",
      "name": "python3"
    },
    "language_info": {
      "codemirror_mode": {
        "name": "ipython",
        "version": 3
      },
      "file_extension": ".py",
      "mimetype": "text/x-python",
      "name": "python",
      "nbconvert_exporter": "python",
      "pygments_lexer": "ipython3",
      "version": "3.9.21"
    },
    "accelerator": "GPU"
  },
  "nbformat": 4,
  "nbformat_minor": 5
}